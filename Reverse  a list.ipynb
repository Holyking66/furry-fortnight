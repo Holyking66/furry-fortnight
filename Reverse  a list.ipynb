{
 "cells": [
  {
   "cell_type": "code",
   "execution_count": 49,
   "metadata": {},
   "outputs": [
    {
     "name": "stdout",
     "output_type": "stream",
     "text": [
      "3\n",
      "0\n",
      "1\n",
      "2\n",
      "3\n",
      "4\n",
      "5\n",
      "6\n",
      "7\n",
      "8\n",
      "9\n",
      "10\n"
     ]
    }
   ],
   "source": [
    "class ListNode:\n",
    "    def __init__(self,val=0):\n",
    "        self.value=val\n",
    "        self.next = None\n",
    "class List:\n",
    "    def __init__(self):\n",
    "        self.head = ListNode()\n",
    "    def add(self,num):\n",
    "        last = self.head\n",
    "        while(last.next!=None):\n",
    "            last=last.next\n",
    "        last.next=ListNode(num)\n",
    "    def reverse(self,head):\n",
    "            #head = self.head.next\n",
    "        if((head.next== None)or(head==None)):\n",
    "            return head\n",
    "        result = self.reverse(head.next)\n",
    "        head.next.next=head\n",
    "        head.next=None\n",
    "        self.next=result\n",
    "        return result\n",
    "    def print(self):\n",
    "        head = self.head\n",
    "        i=0\n",
    "        while(head):\n",
    "            print(head.value)\n",
    "            head = head.next\n",
    "            i+=1\n",
    "        print(i)\n",
    "\n",
    "\n",
    "l = ListNode(3)\n",
    "print(l.value)\n",
    "L1 = List()\n",
    "for i in range(1,10):\n",
    "    L1.add(i)\n",
    "L1.print()\n"
   ]
  },
  {
   "cell_type": "code",
   "execution_count": 50,
   "metadata": {},
   "outputs": [
    {
     "name": "stdout",
     "output_type": "stream",
     "text": [
      "1\n",
      "1\n",
      "1\n",
      "1\n",
      "1\n",
      "1\n",
      "1\n",
      "1\n",
      "1\n",
      "0\n",
      "1\n"
     ]
    }
   ],
   "source": [
    "L1.reverse(L1.head)\n",
    "L1.print()"
   ]
  }
 ],
 "metadata": {
  "kernelspec": {
   "display_name": "Python 3",
   "language": "python",
   "name": "python3"
  },
  "language_info": {
   "codemirror_mode": {
    "name": "ipython",
    "version": 3
   },
   "file_extension": ".py",
   "mimetype": "text/x-python",
   "name": "python",
   "nbconvert_exporter": "python",
   "pygments_lexer": "ipython3",
   "version": "3.7.0"
  }
 },
 "nbformat": 4,
 "nbformat_minor": 2
}
